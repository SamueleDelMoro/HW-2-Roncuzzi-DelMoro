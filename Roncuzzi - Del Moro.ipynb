{
 "cells": [
  {
   "cell_type": "code",
   "execution_count": 1,
   "id": "b189f608",
   "metadata": {},
   "outputs": [
    {
     "ename": "ModuleNotFoundError",
     "evalue": "No module named 'matplotlib'",
     "output_type": "error",
     "traceback": [
      "\u001b[0;31m---------------------------------------------------------------------------\u001b[0m",
      "\u001b[0;31mModuleNotFoundError\u001b[0m                       Traceback (most recent call last)",
      "\u001b[0;32m/var/folders/j2/ymhsh50s557dtkx3v23wqjq00000gn/T/ipykernel_4474/3401284710.py\u001b[0m in \u001b[0;36m<module>\u001b[0;34m\u001b[0m\n\u001b[1;32m      5\u001b[0m \u001b[0;32mimport\u001b[0m \u001b[0mnumpy\u001b[0m \u001b[0;32mas\u001b[0m \u001b[0mnp\u001b[0m\u001b[0;34m\u001b[0m\u001b[0;34m\u001b[0m\u001b[0m\n\u001b[1;32m      6\u001b[0m \u001b[0;32mfrom\u001b[0m \u001b[0mscipy\u001b[0m \u001b[0;32mimport\u001b[0m \u001b[0msignal\u001b[0m\u001b[0;34m\u001b[0m\u001b[0;34m\u001b[0m\u001b[0m\n\u001b[0;32m----> 7\u001b[0;31m \u001b[0;32mfrom\u001b[0m \u001b[0mmatplotlib\u001b[0m \u001b[0;32mimport\u001b[0m \u001b[0mpyplot\u001b[0m \u001b[0;32mas\u001b[0m \u001b[0mplt\u001b[0m\u001b[0;34m\u001b[0m\u001b[0;34m\u001b[0m\u001b[0m\n\u001b[0m\u001b[1;32m      8\u001b[0m \u001b[0;32mimport\u001b[0m \u001b[0mmatplotlib\u001b[0m\u001b[0;34m.\u001b[0m\u001b[0mimage\u001b[0m \u001b[0;32mas\u001b[0m \u001b[0mmpimg\u001b[0m\u001b[0;34m\u001b[0m\u001b[0;34m\u001b[0m\u001b[0m\n\u001b[1;32m      9\u001b[0m \u001b[0;32mimport\u001b[0m \u001b[0mlibrosa\u001b[0m\u001b[0;34m\u001b[0m\u001b[0;34m\u001b[0m\u001b[0m\n",
      "\u001b[0;31mModuleNotFoundError\u001b[0m: No module named 'matplotlib'"
     ]
    }
   ],
   "source": [
    "#Import all packages\n",
    "\n",
    "import os, sys\n",
    "import sys\n",
    "import numpy as np\n",
    "from scipy import signal\n",
    "from matplotlib import pyplot as plt\n",
    "import matplotlib.image as mpimg\n",
    "import librosa\n",
    "import IPython.display as ipd\n",
    "%matplotlib inline"
   ]
  },
  {
   "cell_type": "code",
   "execution_count": null,
   "id": "198a4dba",
   "metadata": {},
   "outputs": [],
   "source": [
    "#Question 1\n",
    "\n",
    "'''Implement the template based chord recognition algorithm. Define a function that takes as input the\n",
    "path to a wav file and returns the estimated chords sequence labels.\n",
    "The output must be a list\n",
    "\n",
    "λ_pred = [λ_pred0, λpred_1, ..., λpred_N−1] (1)\n",
    "\n",
    "where each element λpred_n is the predicted chord label for the time frame n. \n",
    "The length of the list depends on the feature rate, i.e., both on the window length and hop size \n",
    "used for the chromagram computation and on the downsampling factor, if feature downsampling is \n",
    "applied.\n",
    "\n",
    "The chord templates to be considered are the major triads and the minor triads, leading to a total of 24 templates.\n",
    "Once the function is defined in the notebook, test the function on the wav file Beatles LetItBe.wav,\n",
    "available in /data/wav/ folder, and print or plot the output.\n",
    "\n",
    "Explain in the report the idea behind the template-based chord recognition algorithm and detail each\n",
    "step implemented in the code, including pre processing and post processing phases.\n",
    "'''"
   ]
  },
  {
   "cell_type": "code",
   "execution_count": 3,
   "id": "66ed5112",
   "metadata": {},
   "outputs": [
    {
     "name": "stdout",
     "output_type": "stream",
     "text": [
      "Column names are Start, End, Label\n",
      "['A', 'D', 'E', 'A', 'D', 'E', 'A', 'D', 'B', 'A', 'D', 'A', 'B', 'A', 'E', 'E', 'A', 'D', 'E', 'A', 'D', 'E', 'A', 'D', 'B', 'A', 'D', 'A', 'B', 'A', 'E', 'E', 'A', 'E', 'A', 'D', 'E', 'A', 'D', 'E', 'A', 'D', 'B', 'A', 'D', 'A', 'B', 'A', 'E', 'E', 'A', 'E', 'C', 'G', 'D', 'D', 'A', 'E', 'C', 'G', 'D', 'D', 'A', 'E', 'C', 'G', 'D', 'D', 'A', 'E', 'C', 'G', 'D', 'D', 'A', 'E', 'C', 'G', 'D', 'D', 'A', 'E', 'C', 'G', 'D', 'D', 'A', 'E', 'E', 'E', 'E', 'A', 'D', 'E', 'A', 'D', 'E', 'A', 'D', 'B', 'A', 'D', 'A', 'B', 'A', 'E', 'E', 'A', 'D', 'B', 'A', 'D', 'A', 'B', 'A', 'E', 'E', 'A', 'D', 'A', 'B', 'A', 'E', 'E', 'A', 'G', 'D', 'D', 'A']\n"
     ]
    }
   ],
   "source": [
    "#Question 2\n",
    "'''\n",
    "Write a function to load and preprocess a reference annotation (or ground truth) file, saved in CSV\n",
    "format. The function should take as input the path to a CSV file and produce as output a list of ground\n",
    "truth chord labels, after suitable pre processing. The output must be a list\n",
    "\n",
    "λgt = [λgt0, λgt1, ..., λgtN−1] (2)\n",
    "\n",
    "where each element λgtn is the ground truth chord label for the time window n. \n",
    "The length of the list must be adapted to match the the feature rate.\n",
    "\n",
    "The reference annotations stored in the CSV file are given in the form of labelled segments, each\n",
    "specified as a triplet (start, end, λ) where start and end are expressed in seconds. To load the CSV file\n",
    "check the csv library (distributed with Python) or Pandas library (needs to be installed).\n",
    "\n",
    "In the preprocessing step you should\n",
    "• convert the segment-based annotation into a frame-based label sequence adapted to the feature rate\n",
    "used for the chroma sequence;\n",
    "• convert the labels used in the annotation file to match the chord labels used for the chord recognition\n",
    "algorithm in terms of enharmonic equivalence (i.e., Db = C# );\n",
    "\n",
    "• reduce the chord label set used in the annotation to match the chord labels set used for the chord\n",
    "recognition algorithm (i.e., DMaj6 → D); for this step you can choose any reduction strategy.\n",
    "\n",
    "Once the function is defined in the notebook, test the function on the CSV file Beatles LetItBe.csv,\n",
    "available in /data/csv/ folder, and print or plot the output.\n",
    "Explain in the report each step of the preprocessing phase, focusing in particular on the reduction\n",
    "strategy of the chord label set.\n",
    "'''\n",
    "\n",
    "import csv\n",
    "\n",
    "with open('data/csv/Beatles_HereComesTheSun.csv') as csv_file:\n",
    "    csv_reader = csv.reader(csv_file, delimiter=',')\n",
    "    line_count = 0\n",
    "    list = []\n",
    "    fin = \"\"\n",
    "    tro = []\n",
    "    i = 0;\n",
    "    note = ['C','D','E','F','G','A','B']\n",
    "    for row in csv_reader:\n",
    "        if line_count == 0:\n",
    "            print(f'Column names are {\", \".join(row)}')\n",
    "            line_count += 1\n",
    "        else:\n",
    "            list.append(row[2].split(':'))\n",
    "            tro =[(elem[0].split('/')[0]) for elem in list]\n",
    "            line_count += 1\n",
    "            \n",
    "    for e in tro:\n",
    "        if 'b' in e:\n",
    "            #print(note[note.index(tro[i][0])-1]+'#')\n",
    "            tro[i]=note[note.index(tro[i][0])-1]+'#'\n",
    "        i += 1\n",
    "    \n",
    "    \n",
    "    print(tro)"
   ]
  },
  {
   "cell_type": "code",
   "execution_count": null,
   "id": "0d3a4931",
   "metadata": {},
   "outputs": [],
   "source": [
    "#Question 3\n",
    "'''\n",
    "Propose a metric for evaluating the template based chord recognition algorithm. \n",
    "A metric\n",
    "\n",
    "m = f(λ_pred,λ_gt) (3)\n",
    "\n",
    "is a scalar number that expresses how good is the algorithm in performing the task of chord recognition.\n",
    "The proposed metric should have higher values when the chord recognition algorithm is able to predict\n",
    "correctly the ground truth chords most of the times, lower values if the chord recognition algorithm often\n",
    "fails at recognising the chords.\n",
    "\n",
    "Write a function that takes as input the list of predicted chord labels, the list of ground truth chord\n",
    "labels and computes the proposed metric value. The two input lists must have same length and the\n",
    "output must be a scalar value.\n",
    "\n",
    "Once the function is defined in the notebook, test the function on the two lists of predicted and ground\n",
    "truth chord labels computed in Question 1 and Question 2.\n",
    "\n",
    "In the report write a formal definition of the proposed metric and thoroughly explain the idea behind\n",
    "the proposal. Can you imagine a musically informed strategy that weights differently mismatch errors of\n",
    "the chord recognition algorithm?\n",
    "'''"
   ]
  },
  {
   "cell_type": "code",
   "execution_count": null,
   "id": "313793b6",
   "metadata": {},
   "outputs": [],
   "source": [
    "'''\n",
    "Compute the proposed metric for the remaining 3 songs:\n",
    "• audio Beatles HereComesTheSun.wav, CSV Beatles HereComesTheSun.csv\n",
    "• audio Beatles PennyLane.wav, CSV Beatles PennyLane.csv\n",
    "• audio Beatles ObLaDiObLaDa.wav, CSV Beatles ObLaDiObLaDa.csv\n",
    "all contained in folders /data/wav/ and /data/csv/. Print or plot the metric values.\n",
    "'''"
   ]
  },
  {
   "cell_type": "code",
   "execution_count": null,
   "id": "959c826c",
   "metadata": {},
   "outputs": [],
   "source": [
    "'''\n",
    "Analyse how algorithm parameters affect the performance of the templated based chord recognition\n",
    "algorithm.\n",
    "Given one algorithm parameter (i.e., smoothing filter length L), choose a range of 3 possible values\n",
    "for it (i.e.,L = [0, 10, 20] ). \n",
    "For each value of the parameter, compute the predicted labels and the correspondent metric value for each song.\n",
    "This produces a list of 3 metric values for each song.\n",
    "\n",
    "Plot the results for all songs in a figure where the x-axis corresponds to the parameter values, the\n",
    "y-axis corresponds to metric values. An example of the plot is in Figure 1.\n",
    "\n",
    "Repeat this for at least 3 different algorithm parameters. \n",
    "Note that in every experiment you need to change only one parameter value at a time, while the others must be fixed.\n",
    "\n",
    "Show the 3 plots both in the Jupyter Notebook and in the report. \n",
    "What considerations can you do from the 3 plots that you have? \n",
    "Are some algorithm parameters affecting the results more than others?\n",
    "Comment the results in the report.\n",
    "'''"
   ]
  }
 ],
 "metadata": {
  "kernelspec": {
   "display_name": "Python 3 (ipykernel)",
   "language": "python",
   "name": "python3"
  },
  "language_info": {
   "codemirror_mode": {
    "name": "ipython",
    "version": 3
   },
   "file_extension": ".py",
   "mimetype": "text/x-python",
   "name": "python",
   "nbconvert_exporter": "python",
   "pygments_lexer": "ipython3",
   "version": "3.8.12"
  }
 },
 "nbformat": 4,
 "nbformat_minor": 5
}
